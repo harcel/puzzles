{
 "cells": [
  {
   "cell_type": "code",
   "execution_count": 14,
   "metadata": {},
   "outputs": [
    {
     "data": {
      "text/plain": [
       "22"
      ]
     },
     "execution_count": 14,
     "metadata": {},
     "output_type": "execute_result"
    }
   ],
   "source": [
    "len('een nieuwjaar gewenst!')"
   ]
  },
  {
   "cell_type": "markdown",
   "metadata": {},
   "source": [
    "gelukkig kerst oud nieuw jaar "
   ]
  },
  {
   "cell_type": "code",
   "execution_count": 8,
   "metadata": {},
   "outputs": [],
   "source": [
    "tekens = list('!ONNrOOg')"
   ]
  },
  {
   "cell_type": "code",
   "execution_count": 11,
   "metadata": {},
   "outputs": [],
   "source": [
    "tekens = list('!!!!!!rFAnAnrJ!OrUUUUOEEEEEnFnnnJnJnEAAAAUNaNOnEOFOOJJJJtErrrAUNaNOOanFnatEEJtE!!rAUraNNNanFOattEJtar!rAUOeeeeenFOEtttJtAAAJJUOOOOOOOFOeOgtJttOOOOOggggggJFtSggEggiiiiiiOgggnUnFgnnEEnSSSSSSiennenDDFDDDDDDnEnnSiinDrDDnnFnnDDnnEEEnSSSrrDDDDDFnEEEEEEnDDSESrrrJAnnFEUEEUUDDUSEEDEEEEEEEFEnAADJUEEEEEA!rrnnnrFEEnnJUUEEEEEJkEEEEEkFnnEnIUEEUEUEJ!JrwkEwFwwJUIIUwEEUEUrJwwkEwFJwwJwUIUUUUEE!JwrkEwFJwwIIIweeUEUEkEEEEEwFJwwweewJUEEEE!!!!rkwFwJweeewUEEEUE')"
   ]
  },
  {
   "cell_type": "code",
   "execution_count": 15,
   "metadata": {},
   "outputs": [
    {
     "name": "stdout",
     "output_type": "stream",
     "text": [
      "['!' 'A' 'D' 'E' 'F' 'I' 'J' 'N' 'O' 'S' 'U' 'a' 'e' 'g' 'i' 'k' 'n' 'r'\n",
      " 't' 'w']\n",
      "20\n"
     ]
    }
   ],
   "source": [
    "import numpy as np\n",
    "unieke = np.unique(tekens)\n",
    "print(np.unique(tekens))\n",
    "print(len(np.unique(tekens)))\n"
   ]
  },
  {
   "cell_type": "code",
   "execution_count": 53,
   "metadata": {},
   "outputs": [
    {
     "name": "stdout",
     "output_type": "stream",
     "text": [
      "Lengte van deze poging: U wEnS Ik EeN gOeD FiJn JaAr tOe! 33 Zonder spaties: 26 Dus nog 3\n",
      "U ['!', 'A', 'D', 'E', 'F', 'I', 'J', 'N', 'O', 'S', 'a', 'e', 'g', 'i', 'k', 'n', 'r', 't', 'w']\n",
      "w ['!', 'A', 'D', 'E', 'F', 'I', 'J', 'N', 'O', 'S', 'a', 'e', 'g', 'i', 'k', 'n', 'r', 't']\n",
      "E ['!', 'A', 'D', 'F', 'I', 'J', 'N', 'O', 'S', 'a', 'e', 'g', 'i', 'k', 'n', 'r', 't']\n",
      "n ['!', 'A', 'D', 'F', 'I', 'J', 'N', 'O', 'S', 'a', 'e', 'g', 'i', 'k', 'r', 't']\n",
      "S ['!', 'A', 'D', 'F', 'I', 'J', 'N', 'O', 'a', 'e', 'g', 'i', 'k', 'r', 't']\n",
      "I ['!', 'A', 'D', 'F', 'J', 'N', 'O', 'a', 'e', 'g', 'i', 'k', 'r', 't']\n",
      "k ['!', 'A', 'D', 'F', 'J', 'N', 'O', 'a', 'e', 'g', 'i', 'r', 't']\n",
      "e ['!', 'A', 'D', 'F', 'J', 'N', 'O', 'a', 'g', 'i', 'r', 't']\n",
      "N ['!', 'A', 'D', 'F', 'J', 'O', 'a', 'g', 'i', 'r', 't']\n",
      "g ['!', 'A', 'D', 'F', 'J', 'O', 'a', 'i', 'r', 't']\n",
      "O ['!', 'A', 'D', 'F', 'J', 'a', 'i', 'r', 't']\n",
      "D ['!', 'A', 'F', 'J', 'a', 'i', 'r', 't']\n",
      "F ['!', 'A', 'J', 'a', 'i', 'r', 't']\n",
      "i ['!', 'A', 'J', 'a', 'r', 't']\n",
      "J ['!', 'A', 'a', 'r', 't']\n",
      "a ['!', 'A', 'r', 't']\n",
      "A ['!', 'r', 't']\n",
      "r ['!', 't']\n",
      "t ['!']\n",
      "! []\n",
      "Er zij nog 0 letters over\n"
     ]
    }
   ],
   "source": [
    "uniekelist = list(unieke)\n",
    "uniekekopie = uniekelist.copy()\n",
    "poging = 'EeN nIeUwJaAr gEwEnSt!'\n",
    "poging = 'iK wEnS u EeN gOeD nIeUwJaAr!'\n",
    "poging = 'Ik wEnS U eEn FiJn JaAr tOe!'\n",
    "poging = 'EeN gOeD FiJn JaAr wEnS Ik U tOe!'\n",
    "poging = 'U wEnS Ik EeN gOeD FiJn JaAr tOe!'\n",
    "print('Lengte van deze poging:', poging, len(poging), 'Zonder spaties:', \n",
    "      len(poging.replace(\" \", \"\")), \"Dus nog\", 29-len(poging.replace(\" \", \"\")))\n",
    "for l in list(poging.replace(\" \", \"\")):\n",
    "    if not l in uniekekopie: print(\"ERROR\", l)\n",
    "    if l in uniekelist: \n",
    "        uniekelist.remove(l)\n",
    "        print(l, uniekelist)\n",
    "print(\"Er zij nog\", len(uniekelist), \"letters over\")"
   ]
  },
  {
   "cell_type": "code",
   "execution_count": null,
   "metadata": {},
   "outputs": [],
   "source": []
  },
  {
   "cell_type": "code",
   "execution_count": null,
   "metadata": {},
   "outputs": [],
   "source": []
  },
  {
   "cell_type": "code",
   "execution_count": null,
   "metadata": {},
   "outputs": [],
   "source": []
  },
  {
   "cell_type": "code",
   "execution_count": null,
   "metadata": {},
   "outputs": [],
   "source": []
  },
  {
   "cell_type": "code",
   "execution_count": null,
   "metadata": {},
   "outputs": [],
   "source": []
  },
  {
   "cell_type": "code",
   "execution_count": null,
   "metadata": {},
   "outputs": [],
   "source": []
  },
  {
   "cell_type": "code",
   "execution_count": null,
   "metadata": {},
   "outputs": [],
   "source": []
  },
  {
   "cell_type": "code",
   "execution_count": null,
   "metadata": {},
   "outputs": [],
   "source": []
  },
  {
   "cell_type": "code",
   "execution_count": null,
   "metadata": {},
   "outputs": [],
   "source": []
  },
  {
   "cell_type": "code",
   "execution_count": null,
   "metadata": {},
   "outputs": [],
   "source": []
  },
  {
   "cell_type": "code",
   "execution_count": 25,
   "metadata": {},
   "outputs": [
    {
     "name": "stdout",
     "output_type": "stream",
     "text": [
      "[1, 2, 2, 3, 3, 3, 4, 2, 5, 2, 5, 6, 4, 4, 5, 3, 3, 4]\n",
      "[3 3 3 4 4 4 5 5 5 5 6 6 7 7 8 9 9 9]\n"
     ]
    }
   ],
   "source": [
    "dieren = [\n",
    "    'aap',\n",
    "    'beer',\n",
    "    'das',\n",
    "    'giraf',\n",
    "    'hert',\n",
    "    'kameel',\n",
    "    'kangoeroe',\n",
    "    'kip',\n",
    "    'krokodil',\n",
    "    'leeuw',\n",
    "    'neushoorn',\n",
    "    'nijlpaard',\n",
    "    'olifant',\n",
    "    'slang',\n",
    "    'tijger',\n",
    "    'wolf',\n",
    "    'zebra',\n",
    "    'zeehond'\n",
    "]\n",
    "\n",
    "\n",
    "lettergrepen = [1, 1, 1, 2, 1, 2, 3, 1, 3, 1, 2, 2, 3, 1, 2, 1, 2, 2]\n",
    "klinkers =     [2, 2, 1, 2, 1, 3, 5, 1, 3, 3, 4, 3, 3, 1, 1, 1, 2, 3]\n",
    "\n",
    "medeklinkers = []\n",
    "lengte = []\n",
    "for i, d in enumerate(dieren): \n",
    "    medeklinkers.append(len(d)-klinkers[i])\n",
    "    lengte.append(len(d))\n",
    "print(medeklinkers)\n",
    "\n",
    "\n",
    "# for i, d in enumerate(dieren):\n",
    "#     print(lettergrepen[i] +  medeklinkers[i] - klinkers[i] +len(d))\n",
    "#     print(len(d))\n",
    "\n",
    "print(np.sort(lengte))\n"
   ]
  },
  {
   "cell_type": "code",
   "execution_count": 17,
   "metadata": {},
   "outputs": [
    {
     "name": "stdout",
     "output_type": "stream",
     "text": [
      "[-1  0  1  1  2  0 -1  1  2 -1  1  3  1  3  4  2  1  1]\n"
     ]
    }
   ],
   "source": [
    "import numpy as np\n",
    "print(np.array(medeklinkers) - np.array(klinkers))"
   ]
  },
  {
   "cell_type": "code",
   "execution_count": 37,
   "metadata": {},
   "outputs": [
    {
     "name": "stdout",
     "output_type": "stream",
     "text": [
      "aap -14\n",
      "beer -10\n",
      "das -22\n",
      "giraf -21\n",
      "hert -41\n",
      "kameel -25\n",
      "kangoeroe -9\n",
      "kip -18\n",
      "krokodil -17\n",
      "leeuw -4\n",
      "neushoorn -17\n",
      "nijlpaard -63\n",
      "olifant -27\n",
      "slang -51\n",
      "tijger -41\n",
      "wolf -26\n",
      "zebra -40\n",
      "zeehond -27\n"
     ]
    }
   ],
   "source": [
    "import string\n",
    "\n",
    "ks = list('aeoiu')\n",
    "\n",
    "letters = list(string.ascii_lowercase)\n",
    "waarde = dict(zip(letters, np.arange(26)+1))\n",
    "\n",
    "for d in dieren:\n",
    "    sommetje = 0\n",
    "    for ii, l in enumerate(d): \n",
    "        fact = 1 if l in ks else -1\n",
    "        sommetje += fact * waarde[l]\n",
    "    \n",
    "    print(d, sommetje)\n"
   ]
  },
  {
   "cell_type": "code",
   "execution_count": 39,
   "metadata": {},
   "outputs": [
    {
     "name": "stdout",
     "output_type": "stream",
     "text": [
      "aap \n",
      "beer \n",
      "das \n",
      "giraf \n",
      "hert \n",
      "kameel \n",
      "kangoeroe \n",
      "kip \n",
      "krokodil \n",
      "leeuw \n",
      "neushoorn \n",
      "nijlpaard \n",
      "olifant \n",
      "slang \n",
      "tijger \n",
      "wolf \n",
      "zebra \n",
      "zeehond \n"
     ]
    }
   ],
   "source": [
    "for d in dieren: print(d+' ')"
   ]
  },
  {
   "cell_type": "code",
   "execution_count": 40,
   "metadata": {},
   "outputs": [
    {
     "data": {
      "text/plain": [
       "2.2360679774997898"
      ]
     },
     "execution_count": 40,
     "metadata": {},
     "output_type": "execute_result"
    }
   ],
   "source": [
    "np.sqrt(5)"
   ]
  },
  {
   "cell_type": "code",
   "execution_count": null,
   "metadata": {},
   "outputs": [],
   "source": []
  }
 ],
 "metadata": {
  "kernelspec": {
   "display_name": "Python 3",
   "language": "python",
   "name": "python3"
  },
  "language_info": {
   "codemirror_mode": {
    "name": "ipython",
    "version": 3
   },
   "file_extension": ".py",
   "mimetype": "text/x-python",
   "name": "python",
   "nbconvert_exporter": "python",
   "pygments_lexer": "ipython3",
   "version": "3.6.3"
  }
 },
 "nbformat": 4,
 "nbformat_minor": 2
}
