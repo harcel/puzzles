{
 "cells": [
  {
   "cell_type": "code",
   "execution_count": 1,
   "metadata": {
    "collapsed": true
   },
   "outputs": [],
   "source": [
    "import pandas as pd"
   ]
  },
  {
   "cell_type": "code",
   "execution_count": 3,
   "metadata": {
    "collapsed": false
   },
   "outputs": [],
   "source": [
    "data = pd.read_excel('kerstpuzzel.xlsm', header=None, sheetname=None)"
   ]
  },
  {
   "cell_type": "code",
   "execution_count": 4,
   "metadata": {
    "collapsed": false
   },
   "outputs": [
    {
     "data": {
      "text/plain": [
       "{'Blad1':   0  1  2  3  4  5  6  7  8  9  ... 16 17 18 19 20 21 22 23 24 25\n",
       " 0  h  a  w  e  j  o  i  r  a  a ...  j  j  y  s  g  g  h  l  c  b\n",
       " 1  k  a  g  f  k  a  l  c  j  a ...  h  a  j  a  o  c  c  f  i  y\n",
       " 2  o  r  c  d  m  e  a  n  a  i ...  h  a  i  d  g  o  o  a  w  e\n",
       " 3  j  o  l  e  a  f  d  i  c  o ...  e  t  b  k  a  j  e  a  w  h\n",
       " \n",
       " [4 rows x 26 columns],\n",
       " 'Bold':       0      1      2      3      4      5      6      7      8      9   \\\n",
       " 0   True  False  False  False  False  False  False  False   True  False   \n",
       " 1  False  False  False   True   True  False  False  False  False  False   \n",
       " 2   True   True   True  False   True   True  False   True  False  False   \n",
       " 3  False   True   True  False  False  False   True  False   True   True   \n",
       " \n",
       "    ...       16     17     18     19     20     21     22     23     24     25  \n",
       " 0  ...    False  False  False   True   True  False   True  False  False  False  \n",
       " 1  ...    False  False   True  False  False   True  False  False  False  False  \n",
       " 2  ...    False   True   True  False   True  False  False  False  False   True  \n",
       " 3  ...    False   True  False  False  False  False  False  False  False  False  \n",
       " \n",
       " [4 rows x 26 columns],\n",
       " 'Color':     0   1    2   3    4   5    6    7    8   9  ...    16   17   18   19  20  \\\n",
       " 0  220  50   20  10  130  40    0   70  150  10 ...     0    0   10  160  60   \n",
       " 1   60  60   90  40   10   0    0   10  130  20 ...   160  150  150   50  30   \n",
       " 2  110   0    0  50   80  30    0   50  140  20 ...    30  200  100    0  50   \n",
       " 3  130  60  140  80   30  40  100  150   40  30 ...   100    0  200   40  10   \n",
       " \n",
       "     21  22   23   24   25  \n",
       " 0  130  80   80  210  120  \n",
       " 1   70   0   80    0   50  \n",
       " 2   20  90   70   20  220  \n",
       " 3   40  10  140   40   80  \n",
       " \n",
       " [4 rows x 26 columns],\n",
       " 'Font':              0       1          2           3        4             5   \\\n",
       " 0  Merriweather   Arial     Domine   Economica   Impact  Merriweather   \n",
       " 1    Fjalla One   Arial       Jura        Hind  Georgia       Georgia   \n",
       " 2       Calibri    Jura  Economica  Bree Serif   Domine       Georgia   \n",
       " 3    Bree Serif  Impact     Domine   Economica    Karla          Lato   \n",
       " \n",
       "            6           7         8           9      ...          16      17  \\\n",
       " 0       Arial      Domine     Arial   Economica     ...        Hind   Arial   \n",
       " 1  Fjalla One        Jura   Georgia       Karla     ...       Arial    Jura   \n",
       " 2      Impact     Verdana   Calibri  Bree Serif     ...       Arial    Jura   \n",
       " 3       Arial  Fjalla One  Quantico  Fjalla One     ...      Impact  Domine   \n",
       " \n",
       "           18            19       20      21          22          23       24  \\\n",
       " 0     Domine       Signika    Arial   Arial        Hind       Arial  Signika   \n",
       " 1       Hind  Merriweather  Georgia  Impact      Roboto   Economica   Domine   \n",
       " 2  Economica         Karla   Domine   Arial       Arial  Bree Serif    Arial   \n",
       " 3      Arial    Fjalla One     Lato   Arial  Bree Serif        Hind    Arial   \n",
       " \n",
       "            25  \n",
       " 0       Arial  \n",
       " 1     Calibri  \n",
       " 2  Fjalla One  \n",
       " 3      Roboto  \n",
       " \n",
       " [4 rows x 26 columns],\n",
       " 'FontSize':    0   1   2   3   4   5   6   7   8   9  ...  16  17  18  19  20  21  22  23  \\\n",
       " 0  10  17  24   8  13  11  18   8  14  13 ...  14  14  13  19  13  12   8   9   \n",
       " 1   9   8   9  30  10  22  12  17  12   8 ...   8  13  11  12   8  18   8   9   \n",
       " 2  22  15  26  14  13  15  11  12  16  15 ...  10   9  18   8  14  13  18   8   \n",
       " 3  17  16  25  13  12   9  16  22  14   8 ...  17   8   8   9  16   8   8   9   \n",
       " \n",
       "    24  25  \n",
       " 0  15   8  \n",
       " 1  14   8  \n",
       " 2  19  10  \n",
       " 3  11  14  \n",
       " \n",
       " [4 rows x 26 columns],\n",
       " 'Italic':       0      1      2      3      4      5      6      7      8      9   \\\n",
       " 0  False   True   True  False   True  False   True   True  False   True   \n",
       " 1  False   True  False  False  False   True  False   True   True  False   \n",
       " 2  False  False  False  False  False  False  False  False   True   True   \n",
       " 3  False  False  False  False   True   True  False  False  False  False   \n",
       " \n",
       "    ...      16     17     18     19     20     21     22     23     24     25  \n",
       " 0  ...    True   True  False  False  False  False  False   True   True   True  \n",
       " 1  ...    True  False  False   True  False  False   True   True   True  False  \n",
       " 2  ...    True  False  False  False  False   True  False   True   True  False  \n",
       " 3  ...    True  False  False   True   True  False  False  False  False  False  \n",
       " \n",
       " [4 rows x 26 columns],\n",
       " 'Underlined':      0     1     2     3     4     5     6     7     8     9   ...     16  \\\n",
       " 0 -4142 -4142     2     2     2 -4142 -4142 -4142 -4142     2  ...      2   \n",
       " 1 -4142     2 -4142 -4142     2     2     2     2 -4142 -4142  ...  -4142   \n",
       " 2     2     2     2 -4142 -4142 -4142 -4142     2     2 -4142  ...  -4142   \n",
       " 3 -4142     2     2 -4142     2     2 -4142 -4142     2 -4142  ...      2   \n",
       " \n",
       "      17    18    19  20    21    22    23    24    25  \n",
       " 0 -4142 -4142 -4142   2 -4142 -4142 -4142     2     2  \n",
       " 1 -4142     2 -4142   2 -4142     2 -4142 -4142     2  \n",
       " 2     2 -4142 -4142   2     2 -4142     2 -4142 -4142  \n",
       " 3     2 -4142 -4142   2     2     2     2     2     2  \n",
       " \n",
       " [4 rows x 26 columns]}"
      ]
     },
     "execution_count": 4,
     "metadata": {},
     "output_type": "execute_result"
    }
   ],
   "source": [
    "data"
   ]
  },
  {
   "cell_type": "code",
   "execution_count": null,
   "metadata": {
    "collapsed": true
   },
   "outputs": [],
   "source": []
  }
 ],
 "metadata": {
  "anaconda-cloud": {},
  "kernelspec": {
   "display_name": "Python 3",
   "language": "python",
   "name": "python3"
  },
  "language_info": {
   "codemirror_mode": {
    "name": "ipython",
    "version": 3
   },
   "file_extension": ".py",
   "mimetype": "text/x-python",
   "name": "python",
   "nbconvert_exporter": "python",
   "pygments_lexer": "ipython3",
   "version": "3.5.0rc4"
  }
 },
 "nbformat": 4,
 "nbformat_minor": 2
}
