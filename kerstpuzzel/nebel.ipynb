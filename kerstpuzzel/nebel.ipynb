{
 "cells": [
  {
   "cell_type": "code",
   "execution_count": 1,
   "metadata": {},
   "outputs": [],
   "source": [
    "from pycipher import ADFGVX\n",
    "import numpy as np\n",
    "import string"
   ]
  },
  {
   "cell_type": "code",
   "execution_count": 3,
   "metadata": {},
   "outputs": [
    {
     "data": {
      "text/plain": [
       "58"
      ]
     },
     "execution_count": 3,
     "metadata": {},
     "output_type": "execute_result"
    }
   ],
   "source": [
    "enc= 'dccedgcdccbbecccggbcccfgbcddbccccedcbfdcggcfbfcfcefcedccfc'\n",
    "len(enc)"
   ]
  },
  {
   "cell_type": "code",
   "execution_count": 18,
   "metadata": {},
   "outputs": [
    {
     "data": {
      "text/plain": [
       "36"
      ]
     },
     "execution_count": 18,
     "metadata": {},
     "output_type": "execute_result"
    }
   ],
   "source": [
    "pv = 'NA1C3H8TB2OME5WRPD4F6G7I9J0KLQSUVXYZ'\n",
    "len(pv)"
   ]
  },
  {
   "cell_type": "code",
   "execution_count": 33,
   "metadata": {},
   "outputs": [
    {
     "name": "stdout",
     "output_type": "stream",
     "text": [
      "GAADGFAGAAXXDAAAFFXAAAVFXAGGXAAAADGAXVGAFFAVXVAVADVADGAAVA\n"
     ]
    }
   ],
   "source": [
    "chars = list('cegdfb') # list('bfdgec') # np.sort(np.unique(list(enc)))\n",
    "adfgvxs = list('ADFGVX')\n",
    "translate = dict(zip(chars, adfgvxs))\n",
    "encrypted = ''\n",
    "for letter in enc:\n",
    "    encrypted += translate[letter]\n",
    "print(encrypted)"
   ]
  },
  {
   "cell_type": "code",
   "execution_count": 34,
   "metadata": {},
   "outputs": [
    {
     "data": {
      "text/plain": [
       "'NA1C3H8TB2OME5WRPD4F6G7I9J0KLQSUVXYZ'"
      ]
     },
     "execution_count": 34,
     "metadata": {},
     "output_type": "execute_result"
    }
   ],
   "source": [
    "cube = 'N A 1 C 3 H 8 T B 2 O M E 5 W R P D 4 F 6 G 7 I 9 J 0 K L Q S U V X Y Z'.replace(\" \", \"\")\n",
    "cube"
   ]
  },
  {
   "cell_type": "code",
   "execution_count": null,
   "metadata": {},
   "outputs": [],
   "source": []
  },
  {
   "cell_type": "code",
   "execution_count": 37,
   "metadata": {},
   "outputs": [
    {
     "data": {
      "text/plain": [
       "720"
      ]
     },
     "execution_count": 37,
     "metadata": {},
     "output_type": "execute_result"
    }
   ],
   "source": []
  },
  {
   "cell_type": "code",
   "execution_count": 37,
   "metadata": {},
   "outputs": [
    {
     "name": "stdout",
     "output_type": "stream",
     "text": [
      "a1b2c3d4e5f6g7h8i9j0klmnopqrstuvwxyz\n"
     ]
    },
    {
     "data": {
      "text/plain": [
       "'5CU3AAPJ5R8AWHDU8AJAAOA3PTOKU'"
      ]
     },
     "execution_count": 37,
     "metadata": {},
     "output_type": "execute_result"
    }
   ],
   "source": [
    "# 'PH0QG64MEA1YL2NOFDXKR3CVS5ZW7BJ9UTI8'.lower()\n",
    "blackbox = ADFGVX(makecube(), 'casse')   # georgespainvin\n",
    "blackbox.decipher(encrypted)"
   ]
  },
  {
   "cell_type": "code",
   "execution_count": 36,
   "metadata": {},
   "outputs": [
    {
     "name": "stdout",
     "output_type": "stream",
     "text": [
      "pa1i9nvb2c3d4e5f6g7h8j0klmoqrstuwxyz\n"
     ]
    },
    {
     "data": {
      "text/plain": [
       "'C9TNPPM7CQFPW5VTFP7PPLPNMSL8T'"
      ]
     },
     "execution_count": 36,
     "metadata": {},
     "output_type": "execute_result"
    }
   ],
   "source": [
    "blackbox = ADFGVX(makecube('painvin'), 'casse')   # georgespainvin\n",
    "blackbox.decipher(encrypted)"
   ]
  },
  {
   "cell_type": "code",
   "execution_count": 35,
   "metadata": {},
   "outputs": [],
   "source": [
    "# De cube kan gemaakt worden uit 1 codewoord:\n",
    "# Letters, dubbelen eruit, cijfers na hun later (a->1, b->2, etc ), aangevuld met de rest van het alfabet\n",
    "def makecube(woord):\n",
    "    cijfers = dict(zip(list('abcdefghij'), list('1234567890')))\n",
    "    cube = ''\n",
    "    for l in woord:\n",
    "        if l not in cube: \n",
    "            cube+=l\n",
    "            if l in cijfers: cube+=cijfers[l]\n",
    "    for l in string.ascii_lowercase:\n",
    "        if l not in woord: \n",
    "            cube += l\n",
    "            if l in cijfers: cube+=cijfers[l]\n",
    "    print(cube)\n",
    "    return cube\n",
    "# print(makecube('aapjeskijken'))            "
   ]
  }
 ],
 "metadata": {
  "kernelspec": {
   "display_name": "Python 3",
   "language": "python",
   "name": "python3"
  },
  "language_info": {
   "codemirror_mode": {
    "name": "ipython",
    "version": 3
   },
   "file_extension": ".py",
   "mimetype": "text/x-python",
   "name": "python",
   "nbconvert_exporter": "python",
   "pygments_lexer": "ipython3",
   "version": "3.6.4"
  }
 },
 "nbformat": 4,
 "nbformat_minor": 2
}
