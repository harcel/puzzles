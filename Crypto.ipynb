{
 "cells": [
  {
   "cell_type": "code",
   "execution_count": 9,
   "metadata": {},
   "outputs": [],
   "source": [
    "import string\n"
   ]
  },
  {
   "cell_type": "code",
   "execution_count": 10,
   "metadata": {},
   "outputs": [
    {
     "data": {
      "text/plain": [
       "'abcdefghijklmnopqrstuvwxyz'"
      ]
     },
     "execution_count": 10,
     "metadata": {},
     "output_type": "execute_result"
    }
   ],
   "source": [
    "string.ascii_lowercase"
   ]
  },
  {
   "cell_type": "code",
   "execution_count": 3,
   "metadata": {},
   "outputs": [],
   "source": [
    "tekens = {}\n",
    "for i, l in enumerate(string.ascii_lowercase):\n",
    "    tekens[l] = string.ascii_lowercase[(2*i+1) % len(string.ascii_lowercase)]\n",
    "    \n",
    "\n",
    "for i, l in enumerate(string.ascii_uppercase):\n",
    "    tekens[l] = string.ascii_uppercase[(2*i+1) % len(string.ascii_uppercase)]\n",
    "     "
   ]
  },
  {
   "cell_type": "code",
   "execution_count": 4,
   "metadata": {},
   "outputs": [
    {
     "data": {
      "text/plain": [
       "{'a': 'b',\n",
       " 'b': 'd',\n",
       " 'c': 'f',\n",
       " 'd': 'h',\n",
       " 'e': 'j',\n",
       " 'f': 'l',\n",
       " 'g': 'n',\n",
       " 'h': 'p',\n",
       " 'i': 'r',\n",
       " 'j': 't',\n",
       " 'k': 'v',\n",
       " 'l': 'x',\n",
       " 'm': 'z',\n",
       " 'n': 'b',\n",
       " 'o': 'd',\n",
       " 'p': 'f',\n",
       " 'q': 'h',\n",
       " 'r': 'j',\n",
       " 's': 'l',\n",
       " 't': 'n',\n",
       " 'u': 'p',\n",
       " 'v': 'r',\n",
       " 'w': 't',\n",
       " 'x': 'v',\n",
       " 'y': 'x',\n",
       " 'z': 'z',\n",
       " 'A': 'B',\n",
       " 'B': 'D',\n",
       " 'C': 'F',\n",
       " 'D': 'H',\n",
       " 'E': 'J',\n",
       " 'F': 'L',\n",
       " 'G': 'N',\n",
       " 'H': 'P',\n",
       " 'I': 'R',\n",
       " 'J': 'T',\n",
       " 'K': 'V',\n",
       " 'L': 'X',\n",
       " 'M': 'Z',\n",
       " 'N': 'B',\n",
       " 'O': 'D',\n",
       " 'P': 'F',\n",
       " 'Q': 'H',\n",
       " 'R': 'J',\n",
       " 'S': 'L',\n",
       " 'T': 'N',\n",
       " 'U': 'P',\n",
       " 'V': 'R',\n",
       " 'W': 'T',\n",
       " 'X': 'V',\n",
       " 'Y': 'X',\n",
       " 'Z': 'Z'}"
      ]
     },
     "execution_count": 4,
     "metadata": {},
     "output_type": "execute_result"
    }
   ],
   "source": [
    "tekens"
   ]
  },
  {
   "cell_type": "code",
   "execution_count": 5,
   "metadata": {},
   "outputs": [],
   "source": [
    "with open('line.txt', 'r') as f:\n",
    "    text = f.readlines()"
   ]
  },
  {
   "cell_type": "code",
   "execution_count": null,
   "metadata": {},
   "outputs": [],
   "source": []
  },
  {
   "cell_type": "code",
   "execution_count": 6,
   "metadata": {},
   "outputs": [
    {
     "name": "stdout",
     "output_type": "stream",
     "text": [
      "I keep a close watch on this heart of mine\n",
      "I keep my eyes wide open all the time\n",
      "I keep the ends out for the tie that binds\n",
      "Because you're mine, I walk the line\n",
      "\n",
      "I find it very, very easy to be true\n",
      "I find myself alone when each day's through\n",
      "Yes, I'll admit that I'm a fool for you\n",
      "Because you're mine, I walk the line\n",
      "\n",
      "As sure as night is dark and day is light\n",
      "I keep you on my mind both day and night\n",
      "And happiness I've known proves that it's right\n",
      "Because you're mine, I walk the line\n",
      "\n",
      "You've got a way to keep me on your side\n",
      "You give me cause for love that I can't hide\n",
      "For you I know I'd even try to turn the tide\n",
      "Because you're mine, I walk the line\n",
      "\n",
      "I keep a close watch on this heart of mine\n",
      "I keep my eyes wide open all the time\n",
      "I keep the ends out for the tie that binds\n",
      "Because you're mine, I walk the line\n",
      "\n",
      "                  -- Johnny Cash\n",
      "                 \n"
     ]
    }
   ],
   "source": [
    "for r in text: print(r[:-1])"
   ]
  },
  {
   "cell_type": "code",
   "execution_count": 7,
   "metadata": {},
   "outputs": [],
   "source": [
    "# Ceasar-like with the perturbation equal to index of letter\n",
    "nieuwe_tekst = []\n",
    "for r in text:\n",
    "    nieuwe_regel = ''\n",
    "    for t in r:\n",
    "        if t in tekens: nieuwe_regel += tekens[t]\n",
    "        else: nieuwe_regel += t\n",
    "    nieuwe_tekst.append(nieuwe_regel)\n"
   ]
  },
  {
   "cell_type": "code",
   "execution_count": 9,
   "metadata": {},
   "outputs": [
    {
     "name": "stdout",
     "output_type": "stream",
     "text": [
      "R vjjf b fxdlj tbnfp db nprl pjbjn dl zrbj\n",
      "R vjjf zx jxjl trhj dfjb bxx npj nrzj\n",
      "R vjjf npj jbhl dpn ldj npj nrj npbn drbhl\n",
      "Djfbplj xdp'jj zrbj, R tbxv npj xrbj\n",
      "\n",
      "R lrbh rn rjjx, rjjx jblx nd dj njpj\n",
      "R lrbh zxljxl bxdbj tpjb jbfp hbx'l npjdpnp\n",
      "Xjl, R'xx bhzrn npbn R'z b lddx ldj xdp\n",
      "Djfbplj xdp'jj zrbj, R tbxv npj xrbj\n",
      "\n",
      "Bl lpjj bl brnpn rl hbjv bbh hbx rl xrnpn\n",
      "R vjjf xdp db zx zrbh ddnp hbx bbh brnpn\n",
      "Bbh pbffrbjll R'rj vbdtb fjdrjl npbn rn'l jrnpn\n",
      "Djfbplj xdp'jj zrbj, R tbxv npj xrbj\n",
      "\n",
      "Xdp'rj ndn b tbx nd vjjf zj db xdpj lrhj\n",
      "Xdp nrrj zj fbplj ldj xdrj npbn R fbb'n prhj\n",
      "Ldj xdp R vbdt R'h jrjb njx nd npjb npj nrhj\n",
      "Djfbplj xdp'jj zrbj, R tbxv npj xrbj\n",
      "\n",
      "R vjjf b fxdlj tbnfp db nprl pjbjn dl zrbj\n",
      "R vjjf zx jxjl trhj dfjb bxx npj nrzj\n",
      "R vjjf npj jbhl dpn ldj npj nrj npbn drbhl\n",
      "Djfbplj xdp'jj zrbj, R tbxv npj xrbj\n",
      "\n",
      "                  -- Tdpbbx Fblp\n",
      "                 \n"
     ]
    }
   ],
   "source": [
    "for r in nieuwe_tekst: print(r[:-1])"
   ]
  },
  {
   "cell_type": "code",
   "execution_count": 4,
   "metadata": {},
   "outputs": [
    {
     "name": "stdout",
     "output_type": "stream",
     "text": [
      "1 a\n",
      "2 b\n",
      "3 c\n",
      "4 d\n",
      "5 e\n",
      "6 f\n",
      "7 g\n",
      "8 h\n",
      "9 i\n",
      "10 j\n",
      "11 k\n",
      "12 l\n",
      "13 m\n",
      "14 n\n",
      "15 o\n",
      "16 p\n",
      "17 q\n",
      "18 r\n",
      "19 s\n",
      "20 t\n",
      "21 u\n",
      "22 v\n",
      "23 w\n",
      "24 x\n",
      "25 y\n",
      "26 z\n"
     ]
    }
   ],
   "source": [
    "for i, l in enumerate(string.ascii_lowercase):\n",
    "    print(i+1,l)"
   ]
  },
  {
   "cell_type": "code",
   "execution_count": 97,
   "metadata": {},
   "outputs": [],
   "source": [
    "# Issue for now: I want to get spaces back into the places where they were.\n",
    "\n",
    "import re, string\n",
    "\n",
    "lc = string.ascii_lowercase\n",
    "\n",
    "\n",
    "def vigenere_encrypt(plaintext, key):\n",
    "    key_length = len(key)\n",
    "    key_as_int = [lc.index(i) for i in key]\n",
    "    print(key_as_int)\n",
    "    plaintext_int = [lc.index(i) for i in plaintext]\n",
    "    ciphertext = ''\n",
    "    for i, char in enumerate(plaintext_int):\n",
    "        value = (char + key_as_int[i % key_length]) % 26\n",
    "        ciphertext += lc[value]\n",
    "   \n",
    "    return ciphertext\n",
    "\n",
    "\n",
    "def vigenere_decrypt(ciphertext, key):\n",
    "    key_length = len(key)\n",
    "    key_as_int = [lc.index(i) for i in key]\n",
    "    ciphertext_int = [lc.index(i) for i in ciphertext]\n",
    "    plaintext = ''\n",
    "    for i, char in enumerate(ciphertext_int):\n",
    "        value = (char - key_as_int[i % key_length]) % 26\n",
    "        plaintext += lc[value]\n",
    "    return plaintext"
   ]
  },
  {
   "cell_type": "code",
   "execution_count": 99,
   "metadata": {},
   "outputs": [
    {
     "name": "stdout",
     "output_type": "stream",
     "text": [
      "[1, 0, 19, 19, 8, 18, 19, 0]\n",
      "bsbfxdxeyafitw\n"
     ]
    }
   ],
   "source": [
    "print(vigenere_encrypt('asimpleexample', 'battista'))"
   ]
  },
  {
   "cell_type": "code",
   "execution_count": 24,
   "metadata": {},
   "outputs": [
    {
     "name": "stdout",
     "output_type": "stream",
     "text": [
      "asimpleexample\n"
     ]
    }
   ],
   "source": [
    "print(vigenere_decrypt('bsbfxdxeyafitw', 'battista'))"
   ]
  },
  {
   "cell_type": "code",
   "execution_count": 101,
   "metadata": {},
   "outputs": [],
   "source": [
    "stringetje = 'tofindouthowmanylayerstherewillbelkulmauemkblnmalaxalav'"
   ]
  },
  {
   "cell_type": "code",
   "execution_count": 103,
   "metadata": {},
   "outputs": [
    {
     "name": "stdout",
     "output_type": "stream",
     "text": [
      "[15, 8, 13, 2, 4, 17, 18]\n",
      "iwskrugjbuqadscgyccvjhbugvvoxtydiccjtzcyvezjypqrdpfnnem\n"
     ]
    }
   ],
   "source": [
    "encr = vigenere_encrypt(stringetje, 'pincers') \n",
    "print(encr)"
   ]
  },
  {
   "cell_type": "code",
   "execution_count": null,
   "metadata": {},
   "outputs": [],
   "source": []
  },
  {
   "cell_type": "code",
   "execution_count": 109,
   "metadata": {},
   "outputs": [],
   "source": [
    "def caesar(text, shift):\n",
    "    lc = string.ascii_lowercase\n",
    "    new = ''\n",
    "    for t in text:\n",
    "        if t in lc:\n",
    "            new += lc[(lc.index(t) + len(lc) + shift) % len(lc)] # \"+len(lc)\" to accomodat negative shifts\n",
    "        else: new += t\n",
    "    return new"
   ]
  },
  {
   "cell_type": "code",
   "execution_count": null,
   "metadata": {},
   "outputs": [],
   "source": []
  },
  {
   "cell_type": "code",
   "execution_count": 125,
   "metadata": {},
   "outputs": [],
   "source": [
    "def alt_caesar(text, seq):\n",
    "    \"\"\"Do Caesar, but have the shifts loop through seq, instead of using a single constant shift\"\"\"\n",
    "    lc = string.ascii_lowercase\n",
    "    new = ''\n",
    "    \n",
    "    lseq = len(seq)\n",
    "    ltext = len(text)\n",
    "    numberrot = round(ltext/lseq) + 1\n",
    "    \n",
    "    for t, shift in zip(text, seq*numberrot):\n",
    "#         print(t, shift)\n",
    "        if t in lc:\n",
    "            new += lc[(lc.index(t) + len(lc) + shift) % len(lc)] # \"+len(lc)\" to accomodat negative shifts\n",
    "        else: new += t\n",
    "    return new\n",
    "    "
   ]
  },
  {
   "cell_type": "code",
   "execution_count": 127,
   "metadata": {},
   "outputs": [
    {
     "name": "stdout",
     "output_type": "stream",
     "text": [
      "cjx rlpg rzhh ws xwz tdqgzuw la vomx bmf xuv hnfk bgxync fpjzq sswc gm fge xuf ty zcn bt tvy taq ihq\n"
     ]
    }
   ],
   "source": [
    "print(alt_caesar('you will need to use pincers iw skru gjb uqa dscg yccvjh bugvv oxty di ccj tzc yv ezj yp qrd pfn nem', [4, -5, 3]))"
   ]
  },
  {
   "cell_type": "code",
   "execution_count": 116,
   "metadata": {},
   "outputs": [
    {
     "data": {
      "text/plain": [
       "3"
      ]
     },
     "execution_count": 116,
     "metadata": {},
     "output_type": "execute_result"
    }
   ],
   "source": [
    "import math as m\n",
    "round(3.4)"
   ]
  },
  {
   "cell_type": "code",
   "execution_count": 117,
   "metadata": {},
   "outputs": [
    {
     "data": {
      "text/plain": [
       "[2, 3, 4, 2, 3, 4, 2, 3, 4]"
      ]
     },
     "execution_count": 117,
     "metadata": {},
     "output_type": "execute_result"
    }
   ],
   "source": [
    "seq = [2, 3, 4]\n",
    "seq*3"
   ]
  },
  {
   "cell_type": "code",
   "execution_count": 118,
   "metadata": {},
   "outputs": [
    {
     "name": "stdout",
     "output_type": "stream",
     "text": [
      "0 10\n",
      "1 12\n",
      "2 14\n"
     ]
    }
   ],
   "source": []
  },
  {
   "cell_type": "code",
   "execution_count": 129,
   "metadata": {},
   "outputs": [
    {
     "name": "stdout",
     "output_type": "stream",
     "text": [
      "hppe tubsu, cvu dky smqh saii xt yxa uerhavx mb wpny cng yvw iogl chyzod gqkar ttxd hn ghf yvg uz ado cu uwz ubr jir\n"
     ]
    }
   ],
   "source": [
    "print(caesar('good start, but cjx rlpg rzhh ws xwz tdqgzuw la vomx bmf xuv hnfk bgxync fpjzq sswc gm fge xuf ty zcn bt tvy taq ihq', 1))"
   ]
  },
  {
   "cell_type": "code",
   "execution_count": null,
   "metadata": {},
   "outputs": [],
   "source": []
  },
  {
   "cell_type": "markdown",
   "metadata": {},
   "source": [
    "# BIFID hand cypher\n",
    "\n",
    "See https://en.wikipedia.org/wiki/Bifid_cipher\n",
    "\n",
    "I will work here in all caps, just for convenience. In this implementation i and j are the same, all j's are replaced with i's. Sometimes this is done for y and z.\n"
   ]
  },
  {
   "cell_type": "code",
   "execution_count": 52,
   "metadata": {},
   "outputs": [],
   "source": [
    "import string\n",
    "import numpy as np\n",
    "\n",
    "def bifid_encrypt(key, plaintext):\n",
    "    \"\"\"Key is used to construct the cypher rectangle, \n",
    "    then the plaintext is converted to coordinates, \n",
    "    and the coordinates to cyphertext.\"\"\"\n",
    "    \n",
    "    # preprocessing fo strings\n",
    "    key = key.upper()\n",
    "    plaintext = plaintext.upper()\n",
    "    \n",
    "    key = key.replace('J', 'I')\n",
    "    key = key.replace(\" \", \"\")\n",
    "    plaintext = plaintext.replace('J', 'I')\n",
    "    plaintext = plaintext.replace(\" \", \"\")\n",
    "    \n",
    "    ascii_upper = string.ascii_uppercase\n",
    "    ascii_upper = ascii_upper.replace('J', 'I')\n",
    "    \n",
    "    \n",
    "    #Create the bifid cipher rectangle based on the key\n",
    "    rectangle = ''\n",
    "    for char in key+ascii_upper:\n",
    "        if char not in rectangle: rectangle += char\n",
    "    \n",
    "    if len(rectangle) != 25: \n",
    "        print(\"Something went wrong here\", len(rectangle))\n",
    "        print(rectangle)\n",
    "        \n",
    "    print('Using key', key)\n",
    "    \n",
    "    # Get the coordinates of the plaintext in the rectangle\n",
    "    rows = []\n",
    "    columns = []\n",
    "    for char in plaintext:\n",
    "        if not char in ascii_upper:\n",
    "            c = 'space' if char == \" \" else char\n",
    "            print(\"Omitting\", c)\n",
    "            continue\n",
    "        position = rectangle.index(char)\n",
    "        rows.append(int(np.floor(position/5)))\n",
    "        columns.append(position % 5)\n",
    "        \n",
    "    # Convert coordinates back to other characters\n",
    "    allcoords = rows+columns\n",
    "    cyphertext = ''\n",
    "    for i in range(len(rows)):\n",
    "        these_coords = allcoords[2*i:2*i+2]\n",
    "        cyphertext += rectangle[5*these_coords[0]+these_coords[1]]\n",
    "    \n",
    "    return cyphertext"
   ]
  },
  {
   "cell_type": "code",
   "execution_count": 54,
   "metadata": {},
   "outputs": [
    {
     "name": "stdout",
     "output_type": "stream",
     "text": [
      "Using key LETTERONTWERPERS\n",
      "BETVBOSYBOS\n"
     ]
    }
   ],
   "source": [
    "k = 'letterontwerpers'\n",
    "p = 'gerard unger'\n",
    "print(bifid_encrypt(k, p))"
   ]
  },
  {
   "cell_type": "code",
   "execution_count": 67,
   "metadata": {},
   "outputs": [
    {
     "name": "stdout",
     "output_type": "stream",
     "text": [
      "Using key MINISTERSD\n",
      "FMAQLFEYAOMDFN\n"
     ]
    }
   ],
   "source": [
    "k = 'minister'\n",
    "p = 'kajsa ollongren'   # Kajsa zegt: FIAQQFEYSOVFDN\n",
    "print(bifid_encrypt(k, p))"
   ]
  },
  {
   "cell_type": "code",
   "execution_count": 62,
   "metadata": {},
   "outputs": [
    {
     "name": "stdout",
     "output_type": "stream",
     "text": [
      "Using key MINISTER\n",
      "QFVNEIFEEIRXQYI\n"
     ]
    }
   ],
   "source": [
    "k = 'minister'\n",
    "p = 'lodewijk asscher'\n",
    "print(bifid_encrypt(k, p))"
   ]
  },
  {
   "cell_type": "code",
   "execution_count": null,
   "metadata": {},
   "outputs": [],
   "source": []
  }
 ],
 "metadata": {
  "kernelspec": {
   "display_name": "Python 3",
   "language": "python",
   "name": "python3"
  },
  "language_info": {
   "codemirror_mode": {
    "name": "ipython",
    "version": 3
   },
   "file_extension": ".py",
   "mimetype": "text/x-python",
   "name": "python",
   "nbconvert_exporter": "python",
   "pygments_lexer": "ipython3",
   "version": "3.6.7"
  }
 },
 "nbformat": 4,
 "nbformat_minor": 2
}
