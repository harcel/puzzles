{
 "cells": [
  {
   "cell_type": "code",
   "execution_count": 6,
   "metadata": {},
   "outputs": [],
   "source": [
    "import numpy as np\n",
    "import matplotlib.pyplot as plt\n",
    "from matplotlib.colors import LinearSegmentedColormap"
   ]
  },
  {
   "cell_type": "code",
   "execution_count": 10,
   "metadata": {},
   "outputs": [],
   "source": [
    "numbers = [[0, 1, 0, -1, 1, 0, -1, 1, 2], [1, 0, 0, -1, 0, 2, -1, 2, 0], [0, 1, 1, -1, 1, 0, -1, 3, 3]]\n",
    "narr = np.array(numbers)"
   ]
  },
  {
   "cell_type": "code",
   "execution_count": 11,
   "metadata": {},
   "outputs": [
    {
     "data": {
      "text/plain": [
       "array([[ 0,  1,  0, -1,  1,  0, -1,  1,  2],\n",
       "       [ 1,  0,  0, -1,  0,  2, -1,  2,  0],\n",
       "       [ 0,  1,  1, -1,  1,  0, -1,  3,  3]])"
      ]
     },
     "execution_count": 11,
     "metadata": {},
     "output_type": "execute_result"
    }
   ],
   "source": [
    "narr"
   ]
  },
  {
   "cell_type": "code",
   "execution_count": 22,
   "metadata": {},
   "outputs": [
    {
     "data": {
      "image/png": "[encoded data removed]",
      "text/plain": [
       "<Figure size 432x288 with 1 Axes>"
      ]
     },
     "metadata": {},
     "output_type": "display_data"
    }
   ],
   "source": [
    "colors = [(0, 0, 0), (1, 0, 0), (0, 1, 0), (0, 0, 1), (1, 1, 1)] # B, R, G, B, W\n",
    "\n",
    "cm = LinearSegmentedColormap.from_list('kleurtjes', colors, N=5)\n",
    "\n",
    "plt.imshow(narr, interpolation='nearest', cmap=cm)\n",
    "plt.xticks([])\n",
    "plt.yticks([])\n",
    "plt.text(6.8, 2.2, '?', fontsize=22)\n",
    "plt.text(7.8, 2.2, '?', fontsize=22)\n",
    "plt.savefig('brgbw.png', dpi=400, bbox_inches = 'tight', pad_inches = 0)"
   ]
  },
  {
   "cell_type": "code",
   "execution_count": null,
   "metadata": {},
   "outputs": [],
   "source": [
    "cm = LinearSegmentedColormap.from_list(\n",
    "        cmap_name, colors, N=n_bin)"
   ]
  }
 ],
 "metadata": {
  "kernelspec": {
   "display_name": "Python 3 (ipykernel)",
   "language": "python",
   "name": "python3"
  },
  "language_info": {
   "codemirror_mode": {
    "name": "ipython",
    "version": 3
   },
   "file_extension": ".py",
   "mimetype": "text/x-python",
   "name": "python",
   "nbconvert_exporter": "python",
   "pygments_lexer": "ipython3",
   "version": "3.8.10"
  }
 },
 "nbformat": 4,
 "nbformat_minor": 4
}
